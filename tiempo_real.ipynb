{
 "cells": [
  {
   "attachments": {},
   "cell_type": "markdown",
   "metadata": {},
   "source": [
    "# Simulaciones en tiempo real"
   ]
  },
  {
   "attachments": {},
   "cell_type": "markdown",
   "metadata": {},
   "source": [
    "*Nota: Es importante recordar lo que se explicó en el `readme.md`. Las animaciones (y sobre todo aquellas que deben ser simulaciones físicas en tiempo real) deben ser creadas en formato ipynb en [Google Colab](https://colab.research.google.com/) o [Visual Studio Code](https://code.visualstudio.com/).*\n",
    "\n",
    "Recordemos que para crear una animación es importante escribir el siguiente código:\n",
    "\n",
    "```py\n",
    "ani = animation.FuncAnimation(..., interval)\n",
    "```\n",
    "\n",
    "Destaco el parámetro correspondiente a `interval` ya que necesitamos enfocarnos en él ahora.\n",
    "\n",
    "Muchas veces vamos a querer visualizar animaciones de simulaciones en tiempo real (es decir, **que un segundo en la simulación física de la animación sea equivalente a un segundo en la realidad**). Para que esto funcione se debe colocar un \"interval\" adecuado en la animación, sabiendo que $Interval =\\tilde X$ hace que cada foto de la animación se muestre cada $\\tilde X$ milisegundos. Es decir, que\n",
    "\n",
    "$$Interval = \\tilde X \\left[\\frac{ms}{foto}\\right]= \\frac{\\tilde X}{1000} \\left[\\frac{s}{foto}\\right] = X \\left[\\frac{s}{foto}\\right]$$\n",
    "\n",
    "donde $X = \\frac{\\tilde X}{1000}$ son los segundos entre cada foto de la animación. Esto quiere decir que en vez de usar el $Interval =\\tilde X\\left[\\frac{ms}{foto}\\right]$ podemos usar la fórmula \n",
    "\n",
    "$$Interval =1000 X\\left[\\frac{ms}{foto}\\right]$$\n",
    "\n",
    "para mayor comodidad, pues ahora esta fórmula nos pide el valor $X$ y sabemos que $X$ es, después de todo, un período que nos dice la cantidad de segundos comprendidos entre dos fotos de la animación.\n",
    "\n",
    "¿Cuánto tiene que valer $X$ para que la simulación esté en tiempo real? Para que eso suceda queremos que $X$ coincida con el tiempo entre dos valores del eje de tiempos $t$ de la simulación (suponiendo que $t$ está en segundos). Esto último lo podemos conseguir haciendo el cociente $\\frac{Tiempo~total~que ~dura~la~simulación}{Cantidad~de~valores~en~el~eje~de~temporal}$. Si a este valor lo definimos $X$ (le pedimos a la animación que el tiempo que pasa entre dos fotos en la vida real sea equivalente al tiempo entre dos instantes de $t$ en el código), lograremos que la animación esté en tiempo real.\n",
    "\n",
    "Si al eje de tiempos lo definimos $t$, mientras que el tiempo inicial y final son $t_0$ y $T$ respectivamente, entonces nuestro $X$ debe tener la forma\n",
    "\n",
    "$$X = \\frac{T-t_0}{len(t)}$$\n",
    "\n",
    "Observación: si bien ya podríamos dar por finalizado este texto, aún podemos notar que según la definición que le dimos a $X$ podemos definir\n",
    "\n",
    "$$f = \\frac{1}{X} = \\frac{len(t)}{T-t_0} $$\n",
    "\n",
    "donde $f$ es la cantidad de fotos por segundo en la animación. Es decir, los \"$fps$\".\n",
    "\n",
    "Finalmente, nos queda\n",
    "\n",
    "$$Interval = 1000\\left(\\frac{1}{f}\\right)\\left[\\frac{ms}{foto}\\right] = 1000 \\left(\\frac{T-t_0}{len(t)}\\right)          \\left[\\frac{ms}{foto}\\right]$$\n",
    "\n",
    "Es recomendable averiguar el valor de $f$ antes de hacer la animación y modificarlo si es necesario ya que si es demasiado grande estaríamos realizando demasiado esfuerzo computacional innecesario por dos razones: 1) la computadora podría estar horas corriendo el código 2) el ojo humano no distingue diferencias entre, por ejemplo, $f=300$ y $f=2000$. Utilizando valores de $f$ entre $30$ y $60$ es suficiente pues se logra una animación bastante fluída.\n",
    "\n",
    "¿Si esto último sucede cómo podemos disminuir el valor de $f$? A priori es sencillo si tenemos la libertad de cambiar alguno de los valores de la fracción $\\frac{len(t)}{T-t_0}$, pero si esto no es posible podemos utilizar un eje de tiempos similar pero con menos valores, tal como propongo a continuación: \n",
    "\n",
    "La idea es simplemente recortar los ejes con el siguiente código que hice especialmente para las animaciones ya que recorta una lista de manera homogénea quitando sólo los elementos en posiciones pares pero mantiene los extremos, ya que suelen ser importantes. Observar que nos quedamos con un nuevo $len(\\tilde t)$ tal que $len(\\tilde t) \\approx \\frac{len(t)}{2}$. Esto último quiere decir que si $n$ es el número de veces que recortamos a $len(t)$, entonces las fotos por segundo pasan a ser $\\tilde f \\approx \\frac{f}{2^n}$. Un ejemplo de esto se ve en la animación del péndulo presentada en el archivo `pendulo.ipynb` (pendiente)."
   ]
  },
  {
   "cell_type": "code",
   "execution_count": 5,
   "metadata": {},
   "outputs": [
    {
     "name": "stdout",
     "output_type": "stream",
     "text": [
      "Antes:\n",
      "t: [10, 20, 41, 30, 40, 50, 60, 70]\n",
      "Longitud de t: 8\n",
      "\n",
      "y: [-0.54402111  0.91294525 -0.15862267 -0.98803162  0.74511316 -0.26237485\n",
      " -0.30481062  0.77389068]\n",
      "Longitud de y: 8\n",
      "\n",
      "Ahora:\n",
      "t: [10 41 40 60 70]\n",
      "Longitud de t: 5\n",
      "\n",
      "y: [-0.54402111 -0.15862267  0.74511316 -0.30481062  0.77389068]\n",
      "Longitud de y: 5\n"
     ]
    }
   ],
   "source": [
    "import numpy as np\n",
    "\n",
    "t = [10, 20, 41, 30, 40, 50, 60, 70] # Creo dos ejes, a modo de ejemplo\n",
    "y = np.sin(t)\n",
    "\n",
    "def recorte_de_array(t):\n",
    "    t = list(t)\n",
    "    if (len(t) % 2) != 0: # Si la cantidad de valores de t es impar, nos quedamos con los impares (quitamos los pares):\n",
    "        for i in range(1, int(len(t)/2) + 1):\n",
    "            t.pop(i)\n",
    "    else: # Si la cantidad de valores de t es par, nos quedamos con los impares más el último elemento (que es par)\n",
    "        for i in range(1, int(len(t)/2)):\n",
    "            t.pop(i)\n",
    "    return np.array(t) # La función nos devuelve una tira con los elementos impares de la lista t, incluyendo al último aunque sea par.\n",
    "\n",
    "###Ejemplo:\n",
    "print('Antes:')\n",
    "print('t:', t), print('Longitud de t:', len(t)), print()   \n",
    "print('y:', y), print('Longitud de y:', len(y)), print()       \n",
    "\n",
    "n = 1 # Cantidad de veces que vamos a recortar las listas\n",
    "for i in range(n):\n",
    "    t, y = recorte_de_array(t), recorte_de_array(y)\n",
    "print('Ahora:')\n",
    "print('t:', t), print('Longitud de t:', len(t)), print()   \n",
    "print('y:', y)\n",
    "print('Longitud de y:', len(y))"
   ]
  }
 ],
 "metadata": {
  "kernelspec": {
   "display_name": "Python 3",
   "language": "python",
   "name": "python3"
  },
  "language_info": {
   "codemirror_mode": {
    "name": "ipython",
    "version": 3
   },
   "file_extension": ".py",
   "mimetype": "text/x-python",
   "name": "python",
   "nbconvert_exporter": "python",
   "pygments_lexer": "ipython3",
   "version": "3.11.2"
  },
  "orig_nbformat": 4
 },
 "nbformat": 4,
 "nbformat_minor": 2
}
