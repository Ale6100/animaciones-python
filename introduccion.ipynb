{
 "cells": [
  {
   "attachments": {},
   "cell_type": "markdown",
   "metadata": {},
   "source": [
    "# Introducción"
   ]
  },
  {
   "attachments": {},
   "cell_type": "markdown",
   "metadata": {},
   "source": [
    "El tipo de animación que se usa en este proyecto debe iniciar con las siguientes dos líneas:\n",
    "\n",
    "```py\n",
    "from matplotlib import animation, rc\n",
    "\n",
    "rc('animation', html='html5')\n",
    "```\n",
    "\n",
    "y terminar llamando a la animación. Por ejemplo, si la llamaste \"ani\", escribir eso al final\n",
    "\n",
    "```py\n",
    "ani = animation.FuncAnimation(...)\n",
    "ani\n",
    "```"
   ]
  },
  {
   "attachments": {},
   "cell_type": "markdown",
   "metadata": {},
   "source": [
    "## Ejemplo básico"
   ]
  },
  {
   "attachments": {},
   "cell_type": "markdown",
   "metadata": {},
   "source": [
    "La siguiente animación hace un gráfico de $f(x) = x^n$ para cada valor de $n$ desde 1 hasta 9. Luego muestra una animación con dichos gráficos."
   ]
  },
  {
   "cell_type": "code",
   "execution_count": null,
   "metadata": {},
   "outputs": [],
   "source": [
    "import numpy as np\n",
    "import matplotlib.pyplot as plt\n",
    "from matplotlib import animation, rc\n",
    "\n",
    "rc('animation', html='html5')\n",
    "\n",
    "fig = plt.figure() # Creamos la figura donde se va a hacer la animación\n",
    "ax = fig.gca() # Hace un par de ejes (gca = obten los ejes actuales de la figura)\n",
    "\n",
    "def actualizar(i): # Función que crea un sólo gráfico, que depende del valor de i\n",
    "    ax.clear() # Para cada nuevo gráfico borra los datos del anterior, para que no se superpongan los gráficos\n",
    "    x = np.linspace(0, 10, 100000)\n",
    "    y = x**i                             \n",
    "    plt.plot(x, y, label = 'y = x^' + str(i)) # Grafico y=x^i, uno para cada i\n",
    "    plt.title('i = ' + str(i))\n",
    "    plt.xlim(x[0], x[-1])\n",
    "    plt.ylim(y[0], y[-1])\n",
    "    plt.xlabel('x')\n",
    "    plt.ylabel('y')\n",
    "    plt.legend()\n",
    "    plt.grid()\n",
    "\n",
    "inter = 250\n",
    "print(f'Animación a {round(1000/inter, 2)} fotogramas por segundo')\n",
    "\n",
    "ani = animation.FuncAnimation(fig, actualizar, range(1, 10), interval = inter) # (Agarra la figura llamada \"fig\", itera la función \"actualizar\", y saca \"n\" fotos definidas por el range. interval = X hace que cada foto esté sacada cada X milisegundos)\n",
    "ani # Muestra un video con la animación"
   ]
  }
 ],
 "metadata": {
  "kernelspec": {
   "display_name": "Python 3",
   "language": "python",
   "name": "python3"
  },
  "language_info": {
   "codemirror_mode": {
    "name": "ipython",
    "version": 3
   },
   "file_extension": ".py",
   "mimetype": "text/x-python",
   "name": "python",
   "nbconvert_exporter": "python",
   "pygments_lexer": "ipython3",
   "version": "3.11.2"
  },
  "orig_nbformat": 4
 },
 "nbformat": 4,
 "nbformat_minor": 2
}
