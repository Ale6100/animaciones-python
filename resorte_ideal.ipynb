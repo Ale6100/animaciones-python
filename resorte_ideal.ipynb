{
 "cells": [
  {
   "attachments": {},
   "cell_type": "markdown",
   "metadata": {},
   "source": [
    "# Movimiento de un resorte ideal"
   ]
  },
  {
   "attachments": {},
   "cell_type": "markdown",
   "metadata": {},
   "source": [
    "Haz click [aquí](https://youtu.be/yw3u9KuznIE) para ver el video subido a YouTube"
   ]
  },
  {
   "attachments": {},
   "cell_type": "markdown",
   "metadata": {},
   "source": [
    "En este video se visualiza el movimiento de un resorte ideal con una masa en su extremo derecho. La constante elástica $k$, la longitud natural $l_0$, los kilogramos de la masa, la velocidad inicial $v_0$ que se le imprime a la masa, la posición inicial $x_0$ de la masa y la cantidad de períodos $p$ considerados son personalizables."
   ]
  },
  {
   "cell_type": "code",
   "execution_count": 3,
   "metadata": {},
   "outputs": [
    {
     "name": "stderr",
     "output_type": "stream",
     "text": [
      "C:\\Users\\Ricardo\\AppData\\Local\\Temp\\ipykernel_16484\\3560754142.py:14: RuntimeWarning: invalid value encountered in sqrt\n",
      "  omega = np.sqrt(k/m)\n"
     ]
    },
    {
     "name": "stdout",
     "output_type": "stream",
     "text": [
      "Animación a nan fotogramas por segundo\n"
     ]
    },
    {
     "ename": "ValueError",
     "evalue": "cannot convert float NaN to integer",
     "output_type": "error",
     "traceback": [
      "\u001b[1;31m---------------------------------------------------------------------------\u001b[0m",
      "\u001b[1;31mValueError\u001b[0m                                Traceback (most recent call last)",
      "Cell \u001b[1;32mIn[3], line 52\u001b[0m\n\u001b[0;32m     49\u001b[0m \u001b[39mprint\u001b[39m(\u001b[39mf\u001b[39m\u001b[39m'\u001b[39m\u001b[39mAnimación a \u001b[39m\u001b[39m{\u001b[39;00m\u001b[39mround\u001b[39m(f,\u001b[39m \u001b[39m\u001b[39m2\u001b[39m)\u001b[39m}\u001b[39;00m\u001b[39m fotogramas por segundo\u001b[39m\u001b[39m'\u001b[39m)\n\u001b[0;32m     50\u001b[0m X \u001b[39m=\u001b[39m \u001b[39m1000\u001b[39m\u001b[39m/\u001b[39mf\n\u001b[1;32m---> 52\u001b[0m ani \u001b[39m=\u001b[39m animation\u001b[39m.\u001b[39;49mFuncAnimation(fig, actualizar, \u001b[39mrange\u001b[39;49m(\u001b[39mlen\u001b[39;49m(t)), interval \u001b[39m=\u001b[39;49m X) \u001b[39m# (Agarra la figura llamada \"fig\", itera la función \"actualizar\", y saca \"n\" fotos definidas por el range. interval = X hace que cada foto esté sacada cada X milisegundos)\u001b[39;00m\n\u001b[0;32m     53\u001b[0m HTML(ani\u001b[39m.\u001b[39mto_html5_video())\n",
      "File \u001b[1;32mc:\\Users\\Ricardo\\AppData\\Local\\Programs\\Python\\Python311\\Lib\\site-packages\\matplotlib\\animation.py:1694\u001b[0m, in \u001b[0;36mFuncAnimation.__init__\u001b[1;34m(self, fig, func, frames, init_func, fargs, save_count, cache_frame_data, **kwargs)\u001b[0m\n\u001b[0;32m   1691\u001b[0m \u001b[39m# Needs to be initialized so the draw functions work without checking\u001b[39;00m\n\u001b[0;32m   1692\u001b[0m \u001b[39mself\u001b[39m\u001b[39m.\u001b[39m_save_seq \u001b[39m=\u001b[39m []\n\u001b[1;32m-> 1694\u001b[0m \u001b[39msuper\u001b[39;49m()\u001b[39m.\u001b[39;49m\u001b[39m__init__\u001b[39;49m(fig, \u001b[39m*\u001b[39;49m\u001b[39m*\u001b[39;49mkwargs)\n\u001b[0;32m   1696\u001b[0m \u001b[39m# Need to reset the saved seq, since right now it will contain data\u001b[39;00m\n\u001b[0;32m   1697\u001b[0m \u001b[39m# for a single frame from init, which is not what we want.\u001b[39;00m\n\u001b[0;32m   1698\u001b[0m \u001b[39mself\u001b[39m\u001b[39m.\u001b[39m_save_seq \u001b[39m=\u001b[39m []\n",
      "File \u001b[1;32mc:\\Users\\Ricardo\\AppData\\Local\\Programs\\Python\\Python311\\Lib\\site-packages\\matplotlib\\animation.py:1415\u001b[0m, in \u001b[0;36mTimedAnimation.__init__\u001b[1;34m(self, fig, interval, repeat_delay, repeat, event_source, *args, **kwargs)\u001b[0m\n\u001b[0;32m   1412\u001b[0m \u001b[39m# If we're not given an event source, create a new timer. This permits\u001b[39;00m\n\u001b[0;32m   1413\u001b[0m \u001b[39m# sharing timers between animation objects for syncing animations.\u001b[39;00m\n\u001b[0;32m   1414\u001b[0m \u001b[39mif\u001b[39;00m event_source \u001b[39mis\u001b[39;00m \u001b[39mNone\u001b[39;00m:\n\u001b[1;32m-> 1415\u001b[0m     event_source \u001b[39m=\u001b[39m fig\u001b[39m.\u001b[39;49mcanvas\u001b[39m.\u001b[39;49mnew_timer(interval\u001b[39m=\u001b[39;49m\u001b[39mself\u001b[39;49m\u001b[39m.\u001b[39;49m_interval)\n\u001b[0;32m   1416\u001b[0m \u001b[39msuper\u001b[39m()\u001b[39m.\u001b[39m\u001b[39m__init__\u001b[39m(fig, event_source\u001b[39m=\u001b[39mevent_source, \u001b[39m*\u001b[39margs, \u001b[39m*\u001b[39m\u001b[39m*\u001b[39mkwargs)\n",
      "File \u001b[1;32mc:\\Users\\Ricardo\\AppData\\Local\\Programs\\Python\\Python311\\Lib\\site-packages\\matplotlib\\backend_bases.py:2519\u001b[0m, in \u001b[0;36mFigureCanvasBase.new_timer\u001b[1;34m(self, interval, callbacks)\u001b[0m\n\u001b[0;32m   2496\u001b[0m \u001b[39mdef\u001b[39;00m \u001b[39mnew_timer\u001b[39m(\u001b[39mself\u001b[39m, interval\u001b[39m=\u001b[39m\u001b[39mNone\u001b[39;00m, callbacks\u001b[39m=\u001b[39m\u001b[39mNone\u001b[39;00m):\n\u001b[0;32m   2497\u001b[0m \u001b[39m    \u001b[39m\u001b[39m\"\"\"\u001b[39;00m\n\u001b[0;32m   2498\u001b[0m \u001b[39m    Create a new backend-specific subclass of `.Timer`.\u001b[39;00m\n\u001b[0;32m   2499\u001b[0m \n\u001b[1;32m   (...)\u001b[0m\n\u001b[0;32m   2517\u001b[0m \u001b[39m    >>> timer = fig.canvas.new_timer(callbacks=[(f1, (1,), {'a': 3})])\u001b[39;00m\n\u001b[0;32m   2518\u001b[0m \u001b[39m    \"\"\"\u001b[39;00m\n\u001b[1;32m-> 2519\u001b[0m     \u001b[39mreturn\u001b[39;00m \u001b[39mself\u001b[39;49m\u001b[39m.\u001b[39;49m_timer_cls(interval\u001b[39m=\u001b[39;49minterval, callbacks\u001b[39m=\u001b[39;49mcallbacks)\n",
      "File \u001b[1;32mc:\\Users\\Ricardo\\AppData\\Local\\Programs\\Python\\Python311\\Lib\\site-packages\\matplotlib\\backend_bases.py:1125\u001b[0m, in \u001b[0;36mTimerBase.__init__\u001b[1;34m(self, interval, callbacks)\u001b[0m\n\u001b[0;32m   1123\u001b[0m \u001b[39mself\u001b[39m\u001b[39m.\u001b[39mcallbacks \u001b[39m=\u001b[39m [] \u001b[39mif\u001b[39;00m callbacks \u001b[39mis\u001b[39;00m \u001b[39mNone\u001b[39;00m \u001b[39melse\u001b[39;00m callbacks\u001b[39m.\u001b[39mcopy()\n\u001b[0;32m   1124\u001b[0m \u001b[39m# Set .interval and not ._interval to go through the property setter.\u001b[39;00m\n\u001b[1;32m-> 1125\u001b[0m \u001b[39mself\u001b[39;49m\u001b[39m.\u001b[39;49minterval \u001b[39m=\u001b[39m \u001b[39m1000\u001b[39m \u001b[39mif\u001b[39;00m interval \u001b[39mis\u001b[39;00m \u001b[39mNone\u001b[39;00m \u001b[39melse\u001b[39;00m interval\n\u001b[0;32m   1126\u001b[0m \u001b[39mself\u001b[39m\u001b[39m.\u001b[39msingle_shot \u001b[39m=\u001b[39m \u001b[39mFalse\u001b[39;00m\n",
      "File \u001b[1;32mc:\\Users\\Ricardo\\AppData\\Local\\Programs\\Python\\Python311\\Lib\\site-packages\\matplotlib\\backend_bases.py:1165\u001b[0m, in \u001b[0;36mTimerBase.interval\u001b[1;34m(self, interval)\u001b[0m\n\u001b[0;32m   1161\u001b[0m \u001b[39m@interval\u001b[39m\u001b[39m.\u001b[39msetter\n\u001b[0;32m   1162\u001b[0m \u001b[39mdef\u001b[39;00m \u001b[39minterval\u001b[39m(\u001b[39mself\u001b[39m, interval):\n\u001b[0;32m   1163\u001b[0m     \u001b[39m# Force to int since none of the backends actually support fractional\u001b[39;00m\n\u001b[0;32m   1164\u001b[0m     \u001b[39m# milliseconds, and some error or give warnings.\u001b[39;00m\n\u001b[1;32m-> 1165\u001b[0m     interval \u001b[39m=\u001b[39m \u001b[39mint\u001b[39;49m(interval)\n\u001b[0;32m   1166\u001b[0m     \u001b[39mself\u001b[39m\u001b[39m.\u001b[39m_interval \u001b[39m=\u001b[39m interval\n\u001b[0;32m   1167\u001b[0m     \u001b[39mself\u001b[39m\u001b[39m.\u001b[39m_timer_set_interval()\n",
      "\u001b[1;31mValueError\u001b[0m: cannot convert float NaN to integer"
     ]
    },
    {
     "data": {
      "image/png": "[encoded data removed]",
      "text/plain": [
       "<Figure size 640x480 with 1 Axes>"
      ]
     },
     "metadata": {},
     "output_type": "display_data"
    }
   ],
   "source": [
    "import matplotlib.pyplot as plt\n",
    "import numpy as np\n",
    "from matplotlib import animation, rc\n",
    "from IPython.display import HTML\n",
    "\n",
    "rc('animation', html='html5')\n",
    "\n",
    "m = 1 # kg | Masa\n",
    "k = 20 # N/m | Constante elástica\n",
    "x0 = 5 # m | Posición inicial de la masa con respecto al extremo izquierdo del resorte\n",
    "v0 = 0 # m/s | Velocidad inicial\n",
    "l0 = 3 # m | Longitud natural del resorte\n",
    "t0 = 0 # s | Tiempo inicial\n",
    "\n",
    "omega = np.sqrt(k/m)\n",
    "\n",
    "phi = np.arctan( (-v0)/((x0 - l0)*omega) ) - omega*t0 # Fase\n",
    "A = (x0 - l0)/(np.cos(omega*t0 + phi)) # Amplitud\n",
    "\n",
    "p = 10 # Cantidad de períodos que deseo ver en la animación\n",
    "\n",
    "t = np.linspace(t0, t0 + p*2*np.pi/omega, 850) # Defino el inicio y el final de t como para que dure exactamente p períodos, iniciando en t0\n",
    "x = A*np.cos(omega*t+phi) + l0\n",
    "\n",
    "fig = plt.figure()                       \n",
    "ax = fig.gca()                           \n",
    "\n",
    "def actualizar(i):\n",
    "    ax.clear()                           \n",
    "    plt.scatter(x[i], 0, color = 'red', label = 'Masa') #Masa\n",
    "    xx = np.linspace(0, x[i], 1000)\n",
    "    a = 20*np.pi/x[i]\n",
    "    yy = np.sin(a*xx)                                   #Resorte\n",
    "    plt.plot(xx, yy, color = 'black', label = 'Resorte')\n",
    "    plt.axvline(l0, linestyle = '--', label = 'l0', color = 'blue')             \n",
    "    plt.title('t = ' + str(round(t[i], 2)) + 's')\n",
    "    plt.xlim(min(min(x), 0)-1, max(max(x), 0)+1)\n",
    "    plt.ylim(-3, 3)\n",
    "    plt.xlabel('x')\n",
    "    plt.ylabel('y')\n",
    "    plt.legend()\n",
    "    plt.grid()\n",
    "\n",
    "f = len(t)/(t[-1]-t[0])\n",
    "print(f'Animación a {round(f, 2)} fotogramas por segundo')\n",
    "X = 1000/f\n",
    "\n",
    "ani = animation.FuncAnimation(fig, actualizar, range(len(t)), interval = X) # (Agarra la figura llamada \"fig\", itera la función \"actualizar\", y saca \"n\" fotos definidas por el range. interval = X hace que cada foto esté sacada cada X milisegundos)\n",
    "HTML(ani.to_html5_video())"
   ]
  }
 ],
 "metadata": {
  "kernelspec": {
   "display_name": "Python 3",
   "language": "python",
   "name": "python3"
  },
  "language_info": {
   "codemirror_mode": {
    "name": "ipython",
    "version": 3
   },
   "file_extension": ".py",
   "mimetype": "text/x-python",
   "name": "python",
   "nbconvert_exporter": "python",
   "pygments_lexer": "ipython3",
   "version": "3.11.2"
  },
  "orig_nbformat": 4
 },
 "nbformat": 4,
 "nbformat_minor": 2
}
