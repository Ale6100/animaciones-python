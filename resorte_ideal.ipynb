{
 "cells": [
  {
   "attachments": {},
   "cell_type": "markdown",
   "metadata": {},
   "source": [
    "# Movimiento de un resorte ideal"
   ]
  },
  {
   "attachments": {},
   "cell_type": "markdown",
   "metadata": {},
   "source": [
    "Haz click [aquí](https://youtu.be/yw3u9KuznIE) para ver el video subido a YouTube"
   ]
  },
  {
   "attachments": {},
   "cell_type": "markdown",
   "metadata": {},
   "source": [
    "En este video se visualiza el movimiento de un resorte ideal con una masa en su extremo derecho. La constante elástica $k$, la longitud natural $l_0$, los kilogramos de la masa, la velocidad inicial $v_0$ que se le imprime a la masa, la posición inicial $x_0$ de la masa y la cantidad de períodos $p$ considerados son personalizables."
   ]
  },
  {
   "cell_type": "code",
   "execution_count": null,
   "metadata": {},
   "outputs": [],
   "source": [
    "import matplotlib.pyplot as plt\n",
    "import numpy as np\n",
    "from matplotlib import animation, rc\n",
    "\n",
    "rc('animation', html='html5')\n",
    "\n",
    "m = 1  # kg | Masa\n",
    "k = 20 # N/m | Constante elástica\n",
    "x0 = 5 # m | Posición inicial de la masa con respecto al extremo izquierdo del resorte\n",
    "v0 = 0 # m/s | Velocidad inicial\n",
    "l0 = 3 # m | Longitud natural del resorte\n",
    "t0 = 0 # s | Tiempo inicial\n",
    "omega = np.sqrt(k/m) \n",
    "\n",
    "phi = np.arctan( (-v0)/((x0 - l0)*omega) ) - omega*t0 # Fase\n",
    "A = (x0 - l0)/(np.cos(omega*t0 + phi)) # Amplitud\n",
    "\n",
    "p = 10 # Cantidad de períodos que deseo ver en la animación\n",
    "\n",
    "t = np.linspace(t0, t0 + p*2*np.pi/omega, 850) # Defino el inicio y el final de t como para que dure exactamente p períodos, iniciando en t0\n",
    "x = A*np.cos(omega*t+phi) + l0\n",
    "\n",
    "fig = plt.figure(dpi = 300)                       \n",
    "ax = fig.gca()                           \n",
    "\n",
    "def actualizar(i):\n",
    "    ax.clear()                           \n",
    "    plt.scatter(x[i], 0, color = 'red', label = 'Masa') #Masa\n",
    "    xx = np.linspace(0, x[i], 1000)\n",
    "    a = 20*np.pi/x[i]\n",
    "    yy = np.sin(a*xx)                                   #Resorte\n",
    "    plt.plot(xx, yy, color = 'black', label = 'Resorte')\n",
    "    plt.axvline(l0, linestyle = '--', label = 'l0', color = 'blue')             \n",
    "    plt.title('t = ' + str(round(t[i], 2)) + 's')\n",
    "    plt.xlim(min(min(x), 0)-1, max(max(x), 0)+1)\n",
    "    plt.ylim(-3, 3)\n",
    "    plt.xlabel('x')\n",
    "    plt.ylabel('y')\n",
    "    plt.legend()\n",
    "    plt.grid()\n",
    "\n",
    "f = len(t)/(t[-1]-t[0])\n",
    "print(f'Animación a {round(f, 2)} fotogramas por segundo')\n",
    "X = 1000/f\n",
    "\n",
    "ani = animation.FuncAnimation(fig, actualizar, range(len(t)), interval = X) # (Agarra la figura llamada \"fig\", itera la función \"actualizar\", y saca \"n\" fotos definidas por el range. interval = X hace que cada foto esté sacada cada X milisegundos)\n",
    "ani"
   ]
  }
 ],
 "metadata": {
  "kernelspec": {
   "display_name": "Python 3",
   "language": "python",
   "name": "python3"
  },
  "language_info": {
   "codemirror_mode": {
    "name": "ipython",
    "version": 3
   },
   "file_extension": ".py",
   "mimetype": "text/x-python",
   "name": "python",
   "nbconvert_exporter": "python",
   "pygments_lexer": "ipython3",
   "version": "3.11.2"
  },
  "orig_nbformat": 4
 },
 "nbformat": 4,
 "nbformat_minor": 2
}
