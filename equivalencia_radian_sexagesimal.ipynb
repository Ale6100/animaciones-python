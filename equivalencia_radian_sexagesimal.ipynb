{
 "cells": [
  {
   "attachments": {},
   "cell_type": "markdown",
   "metadata": {},
   "source": [
    "# Equivalencia entre ángulos sexagesimales y radianes"
   ]
  },
  {
   "attachments": {},
   "cell_type": "markdown",
   "metadata": {},
   "source": [
    "Click [aquí](https://youtu.be/naozHS96QEA) para ver un video similar subido a YouTube"
   ]
  },
  {
   "attachments": {},
   "cell_type": "markdown",
   "metadata": {},
   "source": [
    "Este video muestra una partícula roja realizando un movimiento circular de radio 2 (por más que parezca un óvalo) donde arriba se puede visualizar en tiempo real la equivalencia entre grados sexagesimales y radianes.\n",
    "\n",
    "Animación de la parametrización $\\sigma(\\theta) = (r~cos(\\theta), r~sin(\\theta)) = (x, y)$, con $r = 2$ y $\\theta \\in [0, 2\\pi]$:"
   ]
  },
  {
   "cell_type": "code",
   "execution_count": null,
   "metadata": {},
   "outputs": [],
   "source": [
    "import matplotlib.pyplot as plt\n",
    "import numpy as np\n",
    "from matplotlib import animation, rc\n",
    "\n",
    "rc('animation', html='html5')\n",
    "\n",
    "fig = plt.figure() # Creamos la figura donde se va a hacer la animación\n",
    "ax = fig.gca() # Hace un par de ejes (gca = obten los ejes actuales de la figura)\n",
    "\n",
    "r = 2\n",
    "theta = np.linspace(0, 2*np.pi, 800)\n",
    "\n",
    "def actualizar(i):\n",
    "    ax.clear() # Borra lo que esté en los ejes, para que no se superpongan los gráficos\n",
    "   \n",
    "    sigma_x = r*np.cos(theta[0:i+1])\n",
    "    sigma_y = r*np.sin(theta[0:i+1])\n",
    "    plt.plot(sigma_x, sigma_y, color = 'blue') # Grafico la parametrización desde el inicio hasta el paso i-ésimo\n",
    "    \n",
    "    sigma_xi = r*np.cos(theta[i])\n",
    "    sigma_yi = r*np.sin(theta[i])\n",
    "    plt.scatter(sigma_xi, sigma_yi, color = 'red') # Grafico un punto fijo de la parametrización, para un theta determinado  \n",
    "    \n",
    "    plt.plot([0, sigma_xi], [0, sigma_yi], ':', color = 'black') # Grafico una linea punteada que va desde el origen hasta el punto\n",
    "\n",
    "    plt.title('theta = ' + str(round(theta[i], 2)) + ' radianes = ' + str(round(theta[i]*180/np.pi, 2)) + '°')\n",
    "    plt.xlim(-r*1.05, r*1.05)\n",
    "    plt.ylim(-r*1.05, r*1.05)\n",
    "    plt.grid()\n",
    "\n",
    "f = 60\n",
    "print(f'Animación a {f} fotogramas por segundo')\n",
    "X = 1000/f\n",
    "\n",
    "ani = animation.FuncAnimation(fig, actualizar, range(len(theta)), interval = X) # (Agarra la figura llamada \"fig\", itera la función \"actualizar\", y saca \"n\" fotos definidas por el range)\n",
    "ani"
   ]
  }
 ],
 "metadata": {
  "kernelspec": {
   "display_name": "Python 3",
   "language": "python",
   "name": "python3"
  },
  "language_info": {
   "codemirror_mode": {
    "name": "ipython",
    "version": 3
   },
   "file_extension": ".py",
   "mimetype": "text/x-python",
   "name": "python",
   "nbconvert_exporter": "python",
   "pygments_lexer": "ipython3",
   "version": "3.11.2"
  },
  "orig_nbformat": 4
 },
 "nbformat": 4,
 "nbformat_minor": 2
}
