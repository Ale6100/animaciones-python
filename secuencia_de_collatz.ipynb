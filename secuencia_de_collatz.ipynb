{
 "cells": [
  {
   "attachments": {},
   "cell_type": "markdown",
   "metadata": {},
   "source": [
    "# Animación de la Secuencia de Collatz"
   ]
  },
  {
   "attachments": {},
   "cell_type": "markdown",
   "metadata": {},
   "source": [
    "Haz click [aquí](https://youtu.be/zrpjFek02xk) para ver el video subido a YouTube"
   ]
  },
  {
   "attachments": {},
   "cell_type": "markdown",
   "metadata": {},
   "source": [
    "La secuencia de Collatz inicia con un número $n$ natural, si es par se lo divide por dos, si es impar se lo multiplica por tres y se le suma uno. Luego se repite este procedimiento hasta que $n$ llegue a uno.\n",
    "\n",
    "Este video muestra 100 Secuencias de Collatz utilizando los valores iniciales desde el 1 hasta el 100. En el eje horizontal se visualiza la cantidad de pasos que le toma a cada $n$ inicial llegar al correspondiente en el eje vertical.\n",
    "\n",
    "Decidí colocar los colores\n",
    "azul, verde, rojo, magenta, negro, cian, naranja, marrón, púrpura y negro para aquellas secuencias que inicien en un valor de $n$ cuyo último dígito sea 0, 1, 2, 3, 4, 5, 6, 7, 8 y 9 respectivamente (por ejemplo, la que inicia con 12 es roja).\n",
    "\n",
    "De aquí se pueden observar varias curiosidades:\n",
    "- Hay una gran cantidad de secuencias que tienen el mismo patrón desfasado, y la mayoría de ellas obtienen su punto máximo entre el valor 70 y 80\n",
    "- Los valores iniciales cuyo último dígito es 0, 2, 4, 6, 8 y 9 (la mayoría números pares) generan secuencias que terminan muy rápido o son superpuestas por otras. Esto se sabe gracias a los colores\n",
    "\n",
    "**Nota**: La siguiente animación es bastante pesada, demora aproximadamente una hora en crearse. Tengo pendiente analizar cómo disminuir esto"
   ]
  },
  {
   "cell_type": "code",
   "execution_count": null,
   "metadata": {},
   "outputs": [],
   "source": [
    "import numpy as np\n",
    "import matplotlib.pyplot as plt\n",
    "from matplotlib import animation, rc\n",
    "from IPython.display import HTML\n",
    " \n",
    "rc('animation', html='html5')\n",
    "\n",
    "fig = plt.figure() # Creamos la figura donde se va a hacer la animación\n",
    "ax = fig.gca() # Hace un par de ejes (gca = obten los ejes actuales de la figura)\n",
    "\n",
    "def es_par(n): # Creo una función que devuelve \"True\" si un número n es par\n",
    "    res = False\n",
    "    if n%2 == 0:\n",
    "        res = True\n",
    "    return res\n",
    "\n",
    "def collatz(n): # Devuelve la secuencia de collatz del número n, y la cantidad de pasos que le tomó llegar a uno\n",
    "    secuencia = [n]\n",
    "    while n != 1:\n",
    "        if es_par(n):\n",
    "            n = n/2\n",
    "        else:\n",
    "            n = 3*n + 1\n",
    "        secuencia.append(n)\n",
    "    return [np.arange(1, len(secuencia)+1, 1), np.array(secuencia)]\n",
    "\n",
    "ene_inicial, ene_final = 1, 100 # Toma el valor inicial y final de los enes que queremos usar como iniciales                           \n",
    "enes_iniciales = np.arange(ene_inicial, ene_final + 1, 1)\n",
    "\n",
    "colores = ['blue', 'green', 'red', 'magenta', 'black', 'cyan', 'orange', 'brown', 'purple', 'black'] # Estos son los 10 colores que voy a usar, dependiendo del último dígito de n\n",
    "fotos_dominio, fotos_imagen, contador, A = [], [], [], [] \n",
    "for i, j in enumerate(enes_iniciales): # A partir de acá vamos a crear n ejes verticales y horizontales (que luego serán n fotos). Cada gráfico contendrá la unión entre dos puntos, más todos los gráficos hechos anteriormente\n",
    "    pasos, secuencia = collatz(j)\n",
    "    for k in range(0, len(pasos)):\n",
    "        if k == 0:\n",
    "            fotos_dominio.append(pasos[0]) # Hace un punto en el primer valor de cada secuencia\n",
    "            fotos_imagen.append(secuencia[0]) \n",
    "        else:\n",
    "            fotos_dominio.append(pasos[k-1:k+1]) # Para el resto de los valores, dibuja una línea que una el punto anterior con el actual\n",
    "            fotos_imagen.append(secuencia[k-1:k+1])\n",
    "        contador.append(i)\n",
    "        A.append(j) # Guardo en una lista \"A\" los enes iniciales, pero cada uno estará repetido la misma cantidad de pasos tenga cada uno\n",
    "\n",
    "def actualizar(p): \n",
    "#    ax.clear() Normalmente usaría esta línea, pero en este caso sí quiero que se mantengan los gráficos anteriores\n",
    "    ultimo_digito_de_n = int(str(A[p])[-1]) # Averiguo el último dígito de n\n",
    "    for digito in range(0, 10): # Este for nos hará el gráfico p-ésimo considerando un color distinto para cada valor de n con distinto dígito\n",
    "        if ultimo_digito_de_n == digito: \n",
    "            plt.plot(fotos_dominio[p], fotos_imagen[p], '.-', linewidth = 0.75, color = colores[ultimo_digito_de_n])\n",
    "            break \n",
    "    plt.title('n inicial: ' + str(A[p])) \n",
    "plt.xlabel('Pasos')\n",
    "plt.ylabel('Valores de n')\n",
    "plt.grid()\n",
    "\n",
    "inter = 200\n",
    "print(f'Animación a {round(1000/inter, 2)} fotogramas por segundo')\n",
    "\n",
    "ani = animation.FuncAnimation(fig, actualizar, range(0, len(contador)), interval = inter) # (Agarra la figura llamada \"fig\", itera la función \"actualizar\", y saca \"m\" fotos definidas por el range. interval = X hace que cada foto esté sacada cada X milisegundos)\n",
    "HTML(ani.to_html5_video()) # Muestra un video con la animación"
   ]
  }
 ],
 "metadata": {
  "kernelspec": {
   "display_name": "Python 3",
   "language": "python",
   "name": "python3"
  },
  "language_info": {
   "codemirror_mode": {
    "name": "ipython",
    "version": 3
   },
   "file_extension": ".py",
   "mimetype": "text/x-python",
   "name": "python",
   "nbconvert_exporter": "python",
   "pygments_lexer": "ipython3",
   "version": "3.11.2"
  },
  "orig_nbformat": 4
 },
 "nbformat": 4,
 "nbformat_minor": 2
}
