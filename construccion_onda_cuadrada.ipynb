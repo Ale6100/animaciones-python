{
 "cells": [
  {
   "attachments": {},
   "cell_type": "markdown",
   "metadata": {},
   "source": [
    "# Construcción de una onda cuadrada"
   ]
  },
  {
   "attachments": {},
   "cell_type": "markdown",
   "metadata": {},
   "source": [
    "Haz click [aquí](https://youtu.be/L49EcJk5S7g) para ver el video subido a YouTube"
   ]
  },
  {
   "attachments": {},
   "cell_type": "markdown",
   "metadata": {},
   "source": [
    "Para construir una onda necesitamos una combinación de armónicos dada por una serie de Fourier, cuya fórmula general es la siguiente:\n",
    "\n",
    "$$f(t) = \\frac{a_o}{2}+\\sum_{n=1}^{\\infty}[a_n cos(n2\\pi ft) + b_n sen(n2\\pi ft)]$$\n",
    "\n",
    "En particular, la serie de Fourier de una onda cuadrada de amplitud 1 que arranca en t = 0 es:\n",
    "\n",
    "$$f(t) = \\frac{4}{\\pi}\\left[sen(2\\pi ft) + \\frac{1}{3}sen(3*2\\pi ft) + \\frac{1}{5}sen(5*2\\pi ft) + \\frac{1}{7}sen(7*2\\pi ft) + \\dotsb\\right]$$"
   ]
  },
  {
   "cell_type": "code",
   "execution_count": null,
   "metadata": {},
   "outputs": [],
   "source": [
    "import matplotlib.pyplot as plt\n",
    "import numpy as np\n",
    "from matplotlib import animation, rc\n",
    "from IPython.display import HTML\n",
    "\n",
    "rc('animation', html='html5')\n",
    "\n",
    "def termino_fourier(n, f, t):\n",
    "    return (1/n)*np.sin(n*2*np.pi*f*t) # Crea un termino de la sumatoria dentro del corchete, de acuerdo con el valor impar de n\n",
    "\n",
    "f = 440 # Frecuencia de la onda cuadrada (en ciclos por segundo)\n",
    "c = 4 # Cantidad de ciclos que queremos en el gráfico\n",
    "t = np.linspace(0, c/f, 1000) # Tiempo inicial y final (en segundos). Este último está ajustado para que se respete la definición de c\n",
    "armonico_maximo = 2001 # Armónico más grande considerado para hacer la onda cuadrada (se usan armónicos impares, por lo tanto debe ser un número impar)\n",
    "\n",
    "fig = plt.figure()                       \n",
    "ax = fig.gca()   \n",
    "\n",
    "def actualizar(i):\n",
    "    ax.clear()                           \n",
    "\n",
    "    fourier = 0\n",
    "    for n in range(1, i+1, 2):\n",
    "        fourier = fourier + termino_fourier(n, f, t) # Crea la onda cuadrada sumando uno a uno los términos\n",
    "    fourier = (4/np.pi)*fourier # Multiplica todo por 4/pi\n",
    "\n",
    "    plt.plot(t, fourier, color = 'b')           \n",
    "    plt.title('Armónico más grande: ' + str(i))\n",
    "    plt.xlabel('Tiempo (s)')\n",
    "    plt.ylabel('Amplitud')\n",
    "    plt.grid()\n",
    "    \n",
    "inter = 200\n",
    "print(f'Animación a {round(1000/inter, 2)} fotogramas por segundo')\n",
    "\n",
    "ani = animation.FuncAnimation(fig, actualizar, range(1, armonico_maximo+1, 2), interval = inter) # (Agarra la figura llamada \"fig\", itera la función \"actualizar\", y saca \"n\" fotos definidas por el range. interval = X hace que cada foto esté sacada cada X milisegundos)\n",
    "HTML(ani.to_html5_video())"
   ]
  }
 ],
 "metadata": {
  "kernelspec": {
   "display_name": "Python 3",
   "language": "python",
   "name": "python3"
  },
  "language_info": {
   "codemirror_mode": {
    "name": "ipython",
    "version": 3
   },
   "file_extension": ".py",
   "mimetype": "text/x-python",
   "name": "python",
   "nbconvert_exporter": "python",
   "pygments_lexer": "ipython3",
   "version": "3.11.2"
  },
  "orig_nbformat": 4
 },
 "nbformat": 4,
 "nbformat_minor": 2
}
